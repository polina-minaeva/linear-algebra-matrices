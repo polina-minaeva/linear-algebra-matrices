{
  "nbformat": 4,
  "nbformat_minor": 0,
  "metadata": {
    "colab": {
      "provenance": [],
      "authorship_tag": "ABX9TyOB64sZTPYmmKCvmdIxtzqS",
      "include_colab_link": true
    },
    "kernelspec": {
      "name": "python3",
      "display_name": "Python 3"
    },
    "language_info": {
      "name": "python"
    }
  },
  "cells": [
    {
      "cell_type": "markdown",
      "metadata": {
        "id": "view-in-github",
        "colab_type": "text"
      },
      "source": [
        "<a href=\"https://colab.research.google.com/github/polina-minaeva/linear-algebra-matrices/blob/main/%D0%97%20%22%D0%9B%D0%B8%D0%BD%D0%B5%D0%B9%D0%BD%D0%B0%D1%8F%20%D0%B0%D0%BB%D0%B3%D0%B5%D0%B1%D1%80%D0%B0%20%D0%9C%D0%B0%D1%82%D1%80%D0%B8%D1%86%D1%8B%22.ipynb\" target=\"_parent\"><img src=\"https://colab.research.google.com/assets/colab-badge.svg\" alt=\"Open In Colab\"/></a>"
      ]
    },
    {
      "cell_type": "markdown",
      "source": [
        "Задание 1. Найдите собственные значения и собственные вектора матрицы"
      ],
      "metadata": {
        "id": "U6uddB6CwA2r"
      }
    },
    {
      "cell_type": "code",
      "source": [
        "import numpy as np #импортируем библиотеку для работы с матрицами"
      ],
      "metadata": {
        "id": "pDEiEzoMwEaV"
      },
      "execution_count": 2,
      "outputs": []
    },
    {
      "cell_type": "code",
      "execution_count": 4,
      "metadata": {
        "colab": {
          "base_uri": "https://localhost:8080/"
        },
        "id": "tuq8xQZhvnYx",
        "outputId": "a1350261-f3ef-4d80-ca61-8b7bbe100769"
      },
      "outputs": [
        {
          "output_type": "execute_result",
          "data": {
            "text/plain": [
              "(array([1., 4.]),\n",
              " array([[-0.89442719, -0.70710678],\n",
              "        [ 0.4472136 , -0.70710678]]))"
            ]
          },
          "metadata": {},
          "execution_count": 4
        }
      ],
      "source": [
        "m = np.array([[2, 2],\n",
        "              [1, 3]])\n",
        "\n",
        "np.linalg.eig(m) #используем функцию eig для одновременного нахождения собственных значений (первая скобка) и векторов (вторая скобка)"
      ]
    },
    {
      "cell_type": "markdown",
      "source": [
        "Задание 2. Придумайте матрицу, у которой определитель = 1, и все элементы не равны 0.\n",
        "\n",
        "P.S. Матрица должна быть ненулевой и размерностью не менее 2!"
      ],
      "metadata": {
        "id": "3cFRic8Xw0uc"
      }
    },
    {
      "cell_type": "code",
      "source": [
        "m = np.array([[1, 2], #создаем матрицу, удовлетворяющую условиям\n",
        "              [1, 3]])"
      ],
      "metadata": {
        "id": "VV78c_oHw71Z"
      },
      "execution_count": 5,
      "outputs": []
    },
    {
      "cell_type": "code",
      "source": [
        "np.linalg.det(m) #проверяем значение определителя матрицы с помщью функции det"
      ],
      "metadata": {
        "colab": {
          "base_uri": "https://localhost:8080/"
        },
        "id": "cgupPofJxDfE",
        "outputId": "a7be6a70-fc0a-482b-9839-6780faee85f8"
      },
      "execution_count": 6,
      "outputs": [
        {
          "output_type": "execute_result",
          "data": {
            "text/plain": [
              "1.0"
            ]
          },
          "metadata": {},
          "execution_count": 6
        }
      ]
    }
  ]
}